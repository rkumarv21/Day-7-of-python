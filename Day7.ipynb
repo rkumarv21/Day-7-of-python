{
 "cells": [
  {
   "cell_type": "markdown",
   "id": "f523955e",
   "metadata": {},
   "source": [
    "## Day 7"
   ]
  },
  {
   "cell_type": "markdown",
   "id": "3a983e75",
   "metadata": {},
   "source": [
    "##### exercise 7.1"
   ]
  },
  {
   "cell_type": "code",
   "execution_count": 1,
   "id": "6040d4b0",
   "metadata": {},
   "outputs": [
    {
     "name": "stdout",
     "output_type": "stream",
     "text": [
      "user has to enter a letter in lowercaser\n",
      "w\n",
      "Wrong\n",
      "h\n",
      "Wrong\n",
      "a\n",
      "Wrong\n",
      "t\n",
      "Wrong\n",
      "e\n",
      "Wrong\n",
      "v\n",
      "Wrong\n",
      "e\n",
      "Wrong\n",
      "r\n",
      "Right\n"
     ]
    }
   ],
   "source": [
    "# in this exercise i have to create a program in which randomally user input letter should match with already given word list\n",
    "import random\n",
    "word_list = ['what','when','where','whatever']\n",
    "chosen_word = random.choice(word_list)\n",
    "guess = input(\"user has to enter a letter in lowercase\").lower()\n",
    "\n",
    "for letter in chosen_word:\n",
    "    if letter == guess:\n",
    "        print('Right')\n",
    "    else:\n",
    "        print(\"Wrong\")\n"
   ]
  },
  {
   "cell_type": "markdown",
   "id": "f56e5d70",
   "metadata": {},
   "source": [
    "#### exercise 7.2"
   ]
  },
  {
   "cell_type": "code",
   "execution_count": 10,
   "id": "96913a08",
   "metadata": {},
   "outputs": [
    {
     "name": "stdout",
     "output_type": "stream",
     "text": [
      "enter a letter, you want a\n",
      "the chosen word is banana\n",
      "the changed blank_word is ['_', 'a', '_', 'a', '_', 'a']\n"
     ]
    }
   ],
   "source": [
    "# in this exercise i have to create a program to replace the blank word with matched letter\n",
    "import random\n",
    "word_list = ['banana','guava','mango','apple']\n",
    "chosen_word = random.choice(word_list)\n",
    "print(f\"the chosen word is {chosen_word}\")\n",
    "blank_word = [] # here i taking a empty list\n",
    "for i in range(len(chosen_word)):\n",
    "    blank_word += '_'  # here feeding the empty list with underscore\n",
    "guessed = input(\"enter a letter, you want \").lower()\n",
    "for position in range(len(chosen_word)): # here storing numbers of letters of chosen_word in postion\n",
    "    letter = chosen_word[position]\n",
    "    if letter==guessed:\n",
    "        blank_word[position] = letter\n",
    "\n",
    "print(f\"the changed blank_word is {blank_word}\")"
   ]
  },
  {
   "cell_type": "markdown",
   "id": "16df0be2",
   "metadata": {},
   "source": [
    "### exercise 7.3"
   ]
  },
  {
   "cell_type": "code",
   "execution_count": 2,
   "id": "fecd08ed",
   "metadata": {},
   "outputs": [
    {
     "name": "stdout",
     "output_type": "stream",
     "text": [
      " the chosen word is gauva\n",
      "enter a guessed letterg\n",
      "['g', '_', '_', '_', '_']\n",
      "enter a guessed lettera\n",
      "['g', 'a', '_', '_', 'a']\n",
      "enter a guessed letteru\n",
      "['g', 'a', 'u', '_', 'a']\n",
      "enter a guessed letterv\n",
      "['g', 'a', 'u', 'v', 'a']\n",
      "You won!!\n"
     ]
    }
   ],
   "source": [
    "# here in this exercise i have to program a code in which replacing the \"_\" with guessed letter untill whole word is completed\n",
    "word_list = ['banana','gauva','apple','orange']\n",
    "import random\n",
    "chosen_word = random.choice(word_list)\n",
    "print(f\" the chosen word is {chosen_word}\")\n",
    "display = [] # empty list of dashed word\n",
    "for i in range(len(chosen_word)):\n",
    "    display += '_'\n",
    "\n",
    "end_of_game = False\n",
    "while not end_of_game:\n",
    "    guess = input(\"enter a guessed letter\").lower()\n",
    "    for position in range(len(chosen_word)):\n",
    "        letter = chosen_word[position]\n",
    "        if guess == letter:\n",
    "            display[position] = letter\n",
    "    print(display)\n",
    "    if '_' not in display:\n",
    "        end_of_game = True\n",
    "\n",
    "print(\"You won!!\")\n",
    "        \n",
    "    "
   ]
  },
  {
   "cell_type": "markdown",
   "id": "20980d53",
   "metadata": {},
   "source": [
    "### exercise 7.4"
   ]
  },
  {
   "cell_type": "code",
   "execution_count": null,
   "id": "3e6f6232",
   "metadata": {},
   "outputs": [],
   "source": [
    "# HANGMAN GAME\n",
    "import random\n",
    "\n",
    "stages = ['''\n",
    "  +---+\n",
    "  |   |\n",
    "  O   |\n",
    " /|\\  |\n",
    " / \\  |\n",
    "      |\n",
    "=========\n",
    "''', '''\n",
    "  +---+\n",
    "  |   |\n",
    "  O   |\n",
    " /|\\  |\n",
    " /    |\n",
    "      |\n",
    "=========\n",
    "''', '''\n",
    "  +---+\n",
    "  |   |\n",
    "  O   |\n",
    " /|\\  |\n",
    "      |\n",
    "      |\n",
    "=========\n",
    "''', '''\n",
    "  +---+\n",
    "  |   |\n",
    "  O   |\n",
    " /|   |\n",
    "      |\n",
    "      |\n",
    "=========''', '''\n",
    "  +---+\n",
    "  |   |\n",
    "  O   |\n",
    "  |   |\n",
    "      |\n",
    "      |\n",
    "=========\n",
    "''', '''\n",
    "  +---+\n",
    "  |   |\n",
    "  O   |\n",
    "      |\n",
    "      |\n",
    "      |\n",
    "=========\n",
    "''', '''\n",
    "  +---+\n",
    "  |   |\n",
    "      |\n",
    "      |\n",
    "      |\n",
    "      |\n",
    "=========\n",
    "''']\n",
    "\n",
    "end_of_game = False\n",
    "word_list = [\"ardvark\", \"baboon\", \"camel\"]\n",
    "chosen_word = random.choice(word_list)\n",
    "word_length = len(chosen_word)\n",
    "\n",
    "#TODO-1: - Create a variable called 'lives' to keep track of the number of lives left. \n",
    "#Set 'lives' to equal 6.\n",
    "lives = 6\n",
    "\n",
    "#Testing code\n",
    "print(f'Pssst, the solution is {chosen_word}.')\n",
    "\n",
    "#Create blanks\n",
    "display = []\n",
    "for _ in range(word_length):\n",
    "    display += \"_\"\n",
    "\n",
    "while not end_of_game:\n",
    "    guess = input(\"Guess a letter: \").lower()\n",
    "\n",
    "    #Check guessed letter\n",
    "    for position in range(word_length):\n",
    "        letter = chosen_word[position]\n",
    "        # print(f\"Current position: {position}\\n Current letter: {letter}\\n Guessed letter: {guess}\")\n",
    "        if letter == guess:\n",
    "            display[position] = letter\n",
    "\n",
    "    #TODO-2: - If guess is not a letter in the chosen_word,\n",
    "    #Then reduce 'lives' by 1. \n",
    "    #If lives goes down to 0 then the game should stop and it should print \"You lose.\"\n",
    "    if guess not in chosen_word:\n",
    "            lives-=1\n",
    "            if lives==0:\n",
    "                print(\"You Lose\")\n",
    "                end_of_game = True\n",
    "        \n",
    "    #Join all the elements in the list and turn it into a String.\n",
    "    print(f\"{' '.join(display)}\")\n",
    "\n",
    "    #Check if user has got all letters.\n",
    "    if \"_\" not in display:\n",
    "        end_of_game = True\n",
    "        print(\"You win.\")\n",
    "\n",
    "    #TODO-3: - print the ASCII art from 'stages' that corresponds to the current number of 'lives' the user has remaining.\n",
    "    print(stages[lives])"
   ]
  },
  {
   "cell_type": "markdown",
   "id": "18bebc55",
   "metadata": {},
   "source": [
    "### exercise 7.5"
   ]
  },
  {
   "cell_type": "code",
   "execution_count": null,
   "id": "a7d57b6e",
   "metadata": {},
   "outputs": [],
   "source": [
    "#Step 5\n",
    "\n",
    "import random\n",
    "\n",
    "#TODO-1: - Update the word list to use the 'word_list' from hangman_words.py\n",
    "from hangman_words import word_list\n",
    "chosen_word = random.choice(word_list)\n",
    "word_length = len(chosen_word)\n",
    "\n",
    "end_of_game = False\n",
    "lives = 6\n",
    "\n",
    "#Import the logo from hangman_art.py and print it at the start of the game.\n",
    "from hangman_art import logo\n",
    "print(logo)\n",
    "#Testing code\n",
    "print(f'Pssst, the solution is {chosen_word}.')\n",
    "\n",
    "#Create blanks\n",
    "display = []\n",
    "for _ in range(word_length):\n",
    "    display += \"_\"\n",
    "\n",
    "while not end_of_game:\n",
    "    guess = input(\"Guess a letter: \").lower()\n",
    "\n",
    "    #If the user has entered a letter they've already guessed, print the letter and let them know.\n",
    "    if guess  in display:\n",
    "      print(\"You have already enter this letter\")\n",
    "    #Check guessed letter\n",
    "    for position in range(word_length):\n",
    "        letter = chosen_word[position]\n",
    "        print(f\"Current position: {position}\\n Current letter: {letter}\\n Guessed letter: {guess}\")\n",
    "        if letter == guess:\n",
    "            display[position] = letter\n",
    "\n",
    "    #Check if user is wrong.\n",
    "    if guess not in chosen_word:\n",
    "        #TODO-5: - If the letter is not in the chosen_word, print out the letter and let them know it's not in the word.\n",
    "        print(f\"You guessed {guess}, which is not in the given word. You lose one life\")\n",
    "        lives -= 1\n",
    "        if lives == 0:\n",
    "            end_of_game = True\n",
    "            print(\"You lose.\")\n",
    "\n",
    "    #Join all the elements in the list and turn it into a String.\n",
    "    print(f\"{' '.join(display)}\")\n",
    "\n",
    "    #Check if user has got all letters.\n",
    "    if \"_\" not in display:\n",
    "        end_of_game = True\n",
    "        print(\"You win.\")\n",
    "\n",
    "    #Import the stages from hangman_art.py and make this error go away.\n",
    "    from hangman_art import stages\n",
    "    print(stages[lives])"
   ]
  },
  {
   "cell_type": "code",
   "execution_count": null,
   "id": "23d52a23",
   "metadata": {},
   "outputs": [],
   "source": []
  }
 ],
 "metadata": {
  "kernelspec": {
   "display_name": "Python 3 (ipykernel)",
   "language": "python",
   "name": "python3"
  },
  "language_info": {
   "codemirror_mode": {
    "name": "ipython",
    "version": 3
   },
   "file_extension": ".py",
   "mimetype": "text/x-python",
   "name": "python",
   "nbconvert_exporter": "python",
   "pygments_lexer": "ipython3",
   "version": "3.9.7"
  }
 },
 "nbformat": 4,
 "nbformat_minor": 5
}
